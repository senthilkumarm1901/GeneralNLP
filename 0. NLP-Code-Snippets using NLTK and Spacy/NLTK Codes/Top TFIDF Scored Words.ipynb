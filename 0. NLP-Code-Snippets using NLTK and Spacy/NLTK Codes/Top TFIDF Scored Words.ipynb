{
 "cells": [
  {
   "cell_type": "code",
   "execution_count": 1,
   "metadata": {
    "collapsed": true
   },
   "outputs": [],
   "source": [
    "from sklearn.feature_extraction.text import TfidfVectorizer\n",
    "import pandas as pd"
   ]
  },
  {
   "cell_type": "code",
   "execution_count": 20,
   "metadata": {
    "collapsed": true
   },
   "outputs": [],
   "source": [
    "import string\n",
    "import pp\n",
    "import re"
   ]
  },
  {
   "cell_type": "code",
   "execution_count": 22,
   "metadata": {
    "collapsed": true
   },
   "outputs": [],
   "source": [
    "ip=pd.read_csv(r\"anyfile.csv\",index_col=False)"
   ]
  },
  {
   "cell_type": "code",
   "execution_count": 23,
   "metadata": {},
   "outputs": [
    {
     "data": {
      "text/plain": [
       "Index([u'MediaType', u'VI Sentiment', u'User Sentiment', u'Title', u'Content',\n",
       "       u'PermaLink', u'Author', u'Site', u'Published Date', u'FollowersCount',\n",
       "       u'FriendsCount', u'AuthorInfluence', u'ThreadClassification',\n",
       "       u'Location', u'SiteRank', u'SiteReach', u'SitePageViews', u'Tags',\n",
       "       u'Modified Text', u'Modified Text_stemmed', u'Modified Text_TFIDF',\n",
       "       u'NounPhrases'],\n",
       "      dtype='object')"
      ]
     },
     "execution_count": 23,
     "metadata": {},
     "output_type": "execute_result"
    }
   ],
   "source": [
    "ip.columns"
   ]
  },
  {
   "cell_type": "code",
   "execution_count": 24,
   "metadata": {
    "collapsed": true
   },
   "outputs": [],
   "source": [
    "ip=ip[['Content']]"
   ]
  },
  {
   "cell_type": "code",
   "execution_count": 32,
   "metadata": {
    "collapsed": true
   },
   "outputs": [],
   "source": [
    "stop_words=[u'i',u'want', u'me', u'my', u'myself', u'we', u'our', u'ours', u'ourselves', u'you', u'your', u'yours', u'yourself', u'yourselves', u'he', u'him', u'his', u'himself', u'she', u'her', u'hers', u'herself', u'it', u'its', u'itself', u'they', u'them', u'their', u'theirs', u'themselves', u'what', u'which', u'who', u'whom', u'this', u'that', u'these', u'those', u'am', u'is', u'are', u'was', u'were', u'be', u'been', u'being', u'have', u'has', u'had', u'having', u'do', u'does', u'did', u'doing', u'a', u'an', u'the', u'and', u'but', u'if', u'or', u'because', u'as', u'until', u'while', u'of', u'at', u'by', u'for', u'with', u'about', u'against', u'between', u'into', u'through', u'during', u'before', u'after', u'above', u'below', u'to', u'from', u'up', u'down', u'in', u'out', u'on', u'off', u'over', u'under', u'again', u'further', u'then', u'once', u'here', u'there', u'when', u'where', u'why', u'how', u'all', u'any', u'both', u'each', u'few', u'more', u'most', u'other', u'some', u'such', u'no', u'nor', u'not', u'only', u'own', u'same', u'so', u'than', u'too', u'very', u's', u't', u'can', u'will', u'just', u'don', u'should', u'now', u'd', u'll', u'm', u'o', u're', u've', u'y', u'ain', u'aren', u'couldn', u'didn', u'doesn', u'hadn', u'hasn', u'haven', u'isn', u'ma', u'mightn', u'mustn', u'needn', u'shan', u'shouldn', u'wasn', u'weren', u'won', u'wouldn']\n",
    "brand_words=['windows','win']\n",
    "#stop_words.extend(brand_words)\n",
    "replacement_patterns = [\n",
    "(r'(https?[a-zA-Z0-9!$%^&*.,?:;()\\\\/]*)(\\s|$){1,}', ''),\n",
    "(r'@', 'AT'),\n",
    "(r'#', 'HASHTAG')\n",
    "]\n",
    "patterns=[(re.compile(regex), repl) for (regex, repl) in replacement_patterns]\n",
    "table=string.maketrans(string.punctuation,' '*len(string.punctuation)) #this replaces punctuation with spaces\n",
    "\n",
    "def replace(text,patterns,table,stop_words):\n",
    "    s = text.lower()\n",
    "    for (pattern, repl) in patterns:\n",
    "        #pattern_which_has_been_compiled.sub(replacing_string,original_string_it_has_to_change)\n",
    "        s=pattern.sub(repl,s,re.I)\n",
    "    s=s.translate(table)\n",
    "    s = ' '.join([each for each in s.split() if each not in stop_words])\n",
    "    return s"
   ]
  },
  {
   "cell_type": "code",
   "execution_count": 33,
   "metadata": {
    "collapsed": true
   },
   "outputs": [],
   "source": [
    "ip['Modified Text']=''"
   ]
  },
  {
   "cell_type": "code",
   "execution_count": 34,
   "metadata": {},
   "outputs": [
    {
     "name": "stdout",
     "output_type": "stream",
     "text": [
      "Starting pp with 4 workers\n",
      "C:\\Anaconda2\\lib\\site-packages\\ppworker.py:7: UnicodeWarning: Unicode equal comparison failed to convert both arguments to Unicode - interpreting them as being unequal\n",
      "  #      this list of conditions and the following disclaimer.\n",
      "C:\\Anaconda2\\lib\\site-packages\\ppworker.py:7: UnicodeWarning: Unicode equal comparison failed to convert both arguments to Unicode - interpreting them as being unequal\n",
      "  #      this list of conditions and the following disclaimer.\n",
      "C:\\Anaconda2\\lib\\site-packages\\ppworker.py:7: UnicodeWarning: Unicode equal comparison failed to convert both arguments to Unicode - interpreting them as being unequal\n",
      "  #      this list of conditions and the following disclaimer.\n",
      "C:\\Anaconda2\\lib\\site-packages\\ppworker.py:7: UnicodeWarning: Unicode equal comparison failed to convert both arguments to Unicode - interpreting them as being unequal\n",
      "  #      this list of conditions and the following disclaimer.\n",
      "jobs done\n"
     ]
    }
   ],
   "source": [
    "ppservers = (\"*\",)\n",
    "job_server = pp.Server(ppservers=ppservers)\n",
    "print \"Starting pp with\", job_server.get_ncpus(), \"workers\"\n",
    "inputs = (ip.ix[i,\"Content\"].lower() for i in range(len(ip)))\n",
    "jobs = [job_server.submit(replace, (each,patterns,table,stop_words), (), (\"re\",\"string\")) for each in inputs]\n",
    "jobs_op = [job() for job in jobs]\n",
    "print \"jobs done\"\n",
    "ip['Modified Text'] = jobs_op"
   ]
  },
  {
   "cell_type": "code",
   "execution_count": 35,
   "metadata": {
    "collapsed": true
   },
   "outputs": [],
   "source": [
    "Cleaned_doc=pd.Series(ip[\"Modified Text\"])"
   ]
  },
  {
   "cell_type": "code",
   "execution_count": 36,
   "metadata": {
    "collapsed": true
   },
   "outputs": [],
   "source": [
    "?TfidfVectorizer"
   ]
  },
  {
   "cell_type": "code",
   "execution_count": 37,
   "metadata": {},
   "outputs": [],
   "source": [
    "vect = TfidfVectorizer(min_df=20,max_df=0.4,ngram_range=(1,2),stop_words='english',encoding=u'utf-8',decode_error= u'ignore').fit(Cleaned_doc)"
   ]
  },
  {
   "cell_type": "code",
   "execution_count": 38,
   "metadata": {},
   "outputs": [
    {
     "name": "stdout",
     "output_type": "stream",
     "text": [
      "[(u'ed microsofts', 293), (u'thrilled locked', 806), (u'hashtagmicrosoft windows', 368), (u'locked', 470), (u'feature', 315)]\n",
      "888\n"
     ]
    }
   ],
   "source": [
    "print vect.vocabulary_.items()[0:5]\n",
    "print len(vect.vocabulary_.items())"
   ]
  },
  {
   "cell_type": "code",
   "execution_count": 39,
   "metadata": {
    "collapsed": true
   },
   "outputs": [],
   "source": [
    "X_train_vectorized = vect.transform(Cleaned_doc)\n",
    "Feature_TFIDF_Max_df=pd.DataFrame(X_train_vectorized.max(0).toarray()[0],vect.get_feature_names())\n",
    "Feature_TFIDF_Max_df.columns=['TFIDF_Max_Scores']\n",
    "Feature_TFIDF_Max_df['Features']=Feature_TFIDF_Max_df.index"
   ]
  },
  {
   "cell_type": "code",
   "execution_count": 40,
   "metadata": {
    "collapsed": true
   },
   "outputs": [],
   "source": [
    "Feature_TFIDF_Max_df_large=Feature_TFIDF_Max_df.sort_values(by=['TFIDF_Max_Scores','Features'],ascending=[False,True])"
   ]
  },
  {
   "cell_type": "code",
   "execution_count": 41,
   "metadata": {
    "collapsed": true
   },
   "outputs": [],
   "source": [
    "Feature_TFIDF_Max_df_large=Feature_TFIDF_Max_df_large[['Features','TFIDF_Max_Scores']]"
   ]
  },
  {
   "cell_type": "code",
   "execution_count": 42,
   "metadata": {},
   "outputs": [
    {
     "data": {
      "text/html": [
       "<div>\n",
       "<table border=\"1\" class=\"dataframe\">\n",
       "  <thead>\n",
       "    <tr style=\"text-align: right;\">\n",
       "      <th></th>\n",
       "      <th>Features</th>\n",
       "      <th>TFIDF_Max_Scores</th>\n",
       "    </tr>\n",
       "  </thead>\n",
       "  <tbody>\n",
       "    <tr>\n",
       "      <th>outlook</th>\n",
       "      <td>outlook</td>\n",
       "      <td>0.226425</td>\n",
       "    </tr>\n",
       "    <tr>\n",
       "      <th>outlook ios</th>\n",
       "      <td>outlook ios</td>\n",
       "      <td>0.226425</td>\n",
       "    </tr>\n",
       "    <tr>\n",
       "      <th>plan outlook</th>\n",
       "      <td>plan outlook</td>\n",
       "      <td>0.226425</td>\n",
       "    </tr>\n",
       "    <tr>\n",
       "      <th>attimsweeneyepic update</th>\n",
       "      <td>attimsweeneyepic update</td>\n",
       "      <td>0.222155</td>\n",
       "    </tr>\n",
       "    <tr>\n",
       "      <th>source https</th>\n",
       "      <td>source https</td>\n",
       "      <td>0.222155</td>\n",
       "    </tr>\n",
       "  </tbody>\n",
       "</table>\n",
       "</div>"
      ],
      "text/plain": [
       "                                        Features  TFIDF_Max_Scores\n",
       "outlook                                  outlook          0.226425\n",
       "outlook ios                          outlook ios          0.226425\n",
       "plan outlook                        plan outlook          0.226425\n",
       "attimsweeneyepic update  attimsweeneyepic update          0.222155\n",
       "source https                        source https          0.222155"
      ]
     },
     "execution_count": 42,
     "metadata": {},
     "output_type": "execute_result"
    }
   ],
   "source": [
    "Feature_TFIDF_Max_df_large.tail()"
   ]
  },
  {
   "cell_type": "code",
   "execution_count": 49,
   "metadata": {},
   "outputs": [],
   "source": [
    "Feature_TFIDF_Max_df_large['Mod_Features']=Feature_TFIDF_Max_df_large['Features'].str.replace(r'\\bat(\\w+)',r'@\\1',re.I)"
   ]
  },
  {
   "cell_type": "code",
   "execution_count": 50,
   "metadata": {
    "collapsed": true
   },
   "outputs": [],
   "source": [
    "Feature_TFIDF_Max_df_large['Mod_Features']=Feature_TFIDF_Max_df_large['Mod_Features'].str.replace(r'\\bhashtag(\\w+)',r'#\\1',re.I)"
   ]
  },
  {
   "cell_type": "code",
   "execution_count": 51,
   "metadata": {
    "collapsed": true
   },
   "outputs": [],
   "source": [
    "Feature_TFIDF_Max_df_large.to_csv(r'TFIDF_Scored_Bigrams.csv',index=None)"
   ]
  },
  {
   "cell_type": "code",
   "execution_count": 52,
   "metadata": {
    "collapsed": true
   },
   "outputs": [],
   "source": [
    "from textblob import TextBlob as tb"
   ]
  },
  {
   "cell_type": "code",
   "execution_count": 62,
   "metadata": {},
   "outputs": [
    {
     "data": {
      "text/plain": [
       "TextBlob(\"Microsoft Corporation (NASDAQ:MSFT) is working on a lighter version of Windows 10, dubbed Windows Cloud 10 or simply Windows Cloud. Reports suggest th...This text has been removed due to copyright restrictions.\")"
      ]
     },
     "execution_count": 62,
     "metadata": {},
     "output_type": "execute_result"
    }
   ],
   "source": [
    "tb(ip.ix[1,'Content'])"
   ]
  },
  {
   "cell_type": "code",
   "execution_count": 63,
   "metadata": {},
   "outputs": [
    {
     "data": {
      "text/plain": [
       "WordList(['Microsoft', 'Corporation', 'NASDAQ', 'MSFT', 'is', 'working', 'on', 'a', 'lighter', 'version', 'of', 'Windows', '10', 'dubbed', 'Windows', 'Cloud', '10', 'or', 'simply', 'Windows', 'Cloud', 'Reports', 'suggest', 'th', 'This', 'text', 'has', 'been', 'removed', 'due', 'to', 'copyright', 'restrictions'])"
      ]
     },
     "execution_count": 63,
     "metadata": {},
     "output_type": "execute_result"
    }
   ],
   "source": [
    "tb(ip.ix[1,'Content']).words"
   ]
  },
  {
   "cell_type": "code",
   "execution_count": null,
   "metadata": {
    "collapsed": true
   },
   "outputs": [],
   "source": []
  }
 ],
 "metadata": {
  "kernelspec": {
   "display_name": "Python 3",
   "language": "python",
   "name": "python3"
  },
  "language_info": {
   "codemirror_mode": {
    "name": "ipython",
    "version": 3
   },
   "file_extension": ".py",
   "mimetype": "text/x-python",
   "name": "python",
   "nbconvert_exporter": "python",
   "pygments_lexer": "ipython3",
   "version": "3.6.4"
  }
 },
 "nbformat": 4,
 "nbformat_minor": 1
}
